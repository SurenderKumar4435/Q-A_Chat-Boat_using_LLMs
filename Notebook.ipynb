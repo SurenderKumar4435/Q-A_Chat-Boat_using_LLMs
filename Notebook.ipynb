{
 "cells": [
  {
   "cell_type": "code",
   "execution_count": 1,
   "id": "24f1e04a",
   "metadata": {},
   "outputs": [],
   "source": [
    "from dotenv import load_dotenv\n",
    "import os\n",
    "api_key = os.getenv(\"OPEN_API_KEY\")"
   ]
  },
  {
   "cell_type": "code",
   "execution_count": 2,
   "id": "1ea70033",
   "metadata": {},
   "outputs": [],
   "source": [
    "\n",
    "from langchain_openai import ChatOpenAI\n",
    "from langchain.prompts import PromptTemplate   #gemini-2.5-flash"
   ]
  },
  {
   "cell_type": "code",
   "execution_count": 3,
   "id": "40491cf5",
   "metadata": {},
   "outputs": [],
   "source": [
    "from langchain_openai import ChatOpenAI\n",
    "llm = ChatOpenAI(model=\"gpt-3.5-turbo-0125\",api_key=api_key)   #gpt-3.5-turbo-0125"
   ]
  },
  {
   "cell_type": "code",
   "execution_count": 4,
   "id": "5c4c0d35",
   "metadata": {},
   "outputs": [],
   "source": [
    "from langchain_core.prompts import ChatPromptTemplate\n",
    "\n",
    "prompt_template = ChatPromptTemplate([\n",
    "    (\"system\", \"You are a helpful assistant\"),\n",
    "    (\"user\", \"Tell me about {topic}\")\n",
    "])\n",
    "\n"
   ]
  },
  {
   "cell_type": "code",
   "execution_count": 5,
   "id": "a9053859",
   "metadata": {},
   "outputs": [],
   "source": [
    "from langchain_core.output_parsers import StrOutputParser\n",
    "\n",
    "OutputParser = StrOutputParser()"
   ]
  },
  {
   "cell_type": "code",
   "execution_count": 6,
   "id": "e9cc26ab",
   "metadata": {},
   "outputs": [],
   "source": [
    "chain = prompt_template | llm | OutputParser"
   ]
  },
  {
   "cell_type": "code",
   "execution_count": 7,
   "id": "ecc022c2",
   "metadata": {},
   "outputs": [],
   "source": [
    "user_input = \"Who is viral kholi\"\n"
   ]
  },
  {
   "cell_type": "code",
   "execution_count": 8,
   "id": "0634333f",
   "metadata": {},
   "outputs": [
    {
     "name": "stdout",
     "output_type": "stream",
     "text": [
      "I'm sorry, but it seems like you may have misspelled the name. Did you mean to ask about the famous Indian cricketer Virat Kohli? He is the current captain of the Indian national cricket team and one of the best batsmen in the world. Virat Kohli is known for his aggressive playing style, consistency, and leadership qualities. He has broken several records and is considered one of the greatest cricketers of all time. Let me know if you meant something else or if you would like more information about Virat Kohli.\n"
     ]
    }
   ],
   "source": [
    "response = chain.invoke({\"topic\": user_input})\n",
    "print(response)"
   ]
  },
  {
   "cell_type": "code",
   "execution_count": null,
   "id": "530d08b4",
   "metadata": {},
   "outputs": [],
   "source": []
  }
 ],
 "metadata": {
  "kernelspec": {
   "display_name": "QA_chat",
   "language": "python",
   "name": "python3"
  },
  "language_info": {
   "codemirror_mode": {
    "name": "ipython",
    "version": 3
   },
   "file_extension": ".py",
   "mimetype": "text/x-python",
   "name": "python",
   "nbconvert_exporter": "python",
   "pygments_lexer": "ipython3",
   "version": "3.10.18"
  }
 },
 "nbformat": 4,
 "nbformat_minor": 5
}
